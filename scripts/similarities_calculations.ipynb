{
 "cells": [
  {
   "cell_type": "code",
   "execution_count": 1,
   "metadata": {},
   "outputs": [],
   "source": [
    "from pandas import DataFrame, concat, read_csv, Series\n",
    "from time import sleep\n",
    "import re\n",
    "from nltk.tokenize import word_tokenize\n",
    "import spacy\n",
    "import numpy as np\n",
    "from vaderSentiment.vaderSentiment import SentimentIntensityAnalyzer\n",
    "from nltk.corpus import stopwords\n",
    "from nltk import pos_tag\n",
    "from itertools import combinations\n",
    "import warnings\n",
    "warnings.filterwarnings('ignore')\n",
    "stop_words = set(stopwords.words('english'))\n",
    "nlp = spacy.load('en_core_web_md')"
   ]
  },
  {
   "cell_type": "code",
   "execution_count": 30,
   "metadata": {},
   "outputs": [],
   "source": [
    "comments_df = read_csv(\"../data/comments.csv\")\n",
    "tokens = comments_df[\"comment\"].map(lambda s: word_tokenize(str(s).lower()))\n",
    "tokens = tokens.map(lambda list_words: [i for i in list_words if i.isalpha() and i not in stop_words])\n",
    "token_freq = Series(tokens.sum()).value_counts()"
   ]
  },
  {
   "cell_type": "code",
   "execution_count": 41,
   "metadata": {},
   "outputs": [],
   "source": [
    "token_df = DataFrame(token_freq, columns=[\"frequency\"]).reset_index().rename(columns={\"index\": \"token\"})\n",
    "token_df[\"pos\"] = token_df[\"token\"].map(lambda x: pos_tag([x])[0][1])"
   ]
  },
  {
   "cell_type": "code",
   "execution_count": 43,
   "metadata": {},
   "outputs": [],
   "source": [
    "token_df.to_csv(\"../data/word_frequencies.csv\", index=False)"
   ]
  },
  {
   "cell_type": "markdown",
   "metadata": {},
   "source": [
    "1. Multi\n",
    "    - What are you looking for in your cereal?\n",
    "        - taste\n",
    "        - flavor\n",
    "        - nutrition\n",
    "        - sweet\n",
    "        - crunch\n",
    "    - What else do you want your cereal to have?\n",
    "        - marshmallow\n",
    "        - honey\n",
    "        - fruit\n",
    "\n",
    "2. Single\n",
    "    - Do you have any preference for the Grain?\n",
    "        - oats\n",
    "        - wheat\n",
    "        - rice\n",
    "        - corn"
   ]
  },
  {
   "cell_type": "markdown",
   "metadata": {},
   "source": [
    "### Cereal to feature association"
   ]
  },
  {
   "cell_type": "markdown",
   "metadata": {},
   "source": [
    "1. Sentiment Analyzer"
   ]
  },
  {
   "cell_type": "code",
   "execution_count": 3,
   "metadata": {},
   "outputs": [],
   "source": [
    "senti_analyzer = SentimentIntensityAnalyzer()\n",
    "\n",
    "def review_sentiment(review: str):\n",
    "    score = senti_analyzer.polarity_scores(review)\n",
    "    return score[\"compound\"]"
   ]
  },
  {
   "cell_type": "markdown",
   "metadata": {},
   "source": [
    "2. Similarity between two documents"
   ]
  },
  {
   "cell_type": "code",
   "execution_count": 4,
   "metadata": {},
   "outputs": [],
   "source": [
    "def get_spacy_word_vector_similarity(text1: str, text2: str):\n",
    "    text1 = nlp(text1)\n",
    "    text2 = nlp(text2)\n",
    "    return text1.similarity(text2)"
   ]
  },
  {
   "cell_type": "markdown",
   "metadata": {},
   "source": [
    "3. Create all possible combinations of the features that may be selected by the user"
   ]
  },
  {
   "cell_type": "code",
   "execution_count": 5,
   "metadata": {},
   "outputs": [],
   "source": [
    "multi_select = dict([(chr(x[0]), x[1]) for x in enumerate([\"taste\", \"flavor\", \"nutrition\", \"sweet\", \"crunch\"],start=65)])\n",
    "single_select_1 = dict([(chr(x[0]), x[1]) for x in enumerate([\"oats\", \"wheat\", \"rice\", \"corn\"], start=70)])\n",
    "single_select_2 =  dict([(chr(x[0]), x[1]) for x in enumerate([\"marshmallow\", \"honey\", \"fruit\"],start=74)])"
   ]
  },
  {
   "cell_type": "code",
   "execution_count": 6,
   "metadata": {},
   "outputs": [
    {
     "data": {
      "text/plain": [
       "[(),\n",
       " ('A',),\n",
       " ('B',),\n",
       " ('C',),\n",
       " ('D',),\n",
       " ('E',),\n",
       " ('A', 'B'),\n",
       " ('A', 'C'),\n",
       " ('A', 'D'),\n",
       " ('A', 'E')]"
      ]
     },
     "execution_count": 6,
     "metadata": {},
     "output_type": "execute_result"
    }
   ],
   "source": [
    "multi_combinations = list()\n",
    "for i in range(len(multi_select.keys())+1):\n",
    "    multi_combinations += list(combinations(multi_select.keys(), i))\n",
    "\n",
    "multi_combinations[:10]"
   ]
  },
  {
   "cell_type": "markdown",
   "metadata": {},
   "source": [
    "4. Calculate similarity for all combinations"
   ]
  },
  {
   "cell_type": "code",
   "execution_count": 7,
   "metadata": {},
   "outputs": [
    {
     "data": {
      "text/plain": [
       "639"
      ]
     },
     "execution_count": 7,
     "metadata": {},
     "output_type": "execute_result"
    }
   ],
   "source": [
    "final_combinations = list()\n",
    "\n",
    "for i in single_select_1.keys():\n",
    "    final_combinations += [tuple(list(tup) + [i]) for tup in multi_combinations]\n",
    "for i in single_select_2.keys():\n",
    "    final_combinations += [tuple(list(tup) + [i]) for tup in multi_combinations]\n",
    "for i in single_select_1.keys():\n",
    "    for j in single_select_2.keys():\n",
    "        final_combinations += [tuple(list(tup) + [i, j]) for tup in multi_combinations]\n",
    "final_combinations += multi_combinations\n",
    "\n",
    "final_combinations = [tuple(sorted(list(tup))) for tup in final_combinations if len(tup) > 0]\n",
    "len(final_combinations)"
   ]
  },
  {
   "cell_type": "code",
   "execution_count": 8,
   "metadata": {},
   "outputs": [
    {
     "data": {
      "text/html": [
       "<div>\n",
       "<style scoped>\n",
       "    .dataframe tbody tr th:only-of-type {\n",
       "        vertical-align: middle;\n",
       "    }\n",
       "\n",
       "    .dataframe tbody tr th {\n",
       "        vertical-align: top;\n",
       "    }\n",
       "\n",
       "    .dataframe thead th {\n",
       "        text-align: right;\n",
       "    }\n",
       "</style>\n",
       "<table border=\"1\" class=\"dataframe\">\n",
       "  <thead>\n",
       "    <tr style=\"text-align: right;\">\n",
       "      <th></th>\n",
       "      <th>user</th>\n",
       "      <th>rating</th>\n",
       "      <th>comment</th>\n",
       "      <th>product_id</th>\n",
       "      <th>rank</th>\n",
       "      <th>name</th>\n",
       "    </tr>\n",
       "  </thead>\n",
       "  <tbody>\n",
       "    <tr>\n",
       "      <th>0</th>\n",
       "      <td>Dino Bravo</td>\n",
       "      <td>5</td>\n",
       "      <td>Still remember the taste of it to this day. On...</td>\n",
       "      <td>4</td>\n",
       "      <td>1034</td>\n",
       "      <td>Addams Family Cereal</td>\n",
       "    </tr>\n",
       "    <tr>\n",
       "      <th>1</th>\n",
       "      <td>P. Crackers</td>\n",
       "      <td>5</td>\n",
       "      <td>Pretty much what everyone else is saying... th...</td>\n",
       "      <td>4</td>\n",
       "      <td>1034</td>\n",
       "      <td>Addams Family Cereal</td>\n",
       "    </tr>\n",
       "    <tr>\n",
       "      <th>2</th>\n",
       "      <td>Jeff H.</td>\n",
       "      <td>5</td>\n",
       "      <td>This was the</td>\n",
       "      <td>4</td>\n",
       "      <td>1034</td>\n",
       "      <td>Addams Family Cereal</td>\n",
       "    </tr>\n",
       "    <tr>\n",
       "      <th>3</th>\n",
       "      <td>Kaboodle Doodle</td>\n",
       "      <td>5</td>\n",
       "      <td>This was one of my favorites from the early 90's.</td>\n",
       "      <td>4</td>\n",
       "      <td>1034</td>\n",
       "      <td>Addams Family Cereal</td>\n",
       "    </tr>\n",
       "    <tr>\n",
       "      <th>4</th>\n",
       "      <td>K.Y.</td>\n",
       "      <td>5</td>\n",
       "      <td>I remember this cereal for some reason. I was ...</td>\n",
       "      <td>4</td>\n",
       "      <td>1034</td>\n",
       "      <td>Addams Family Cereal</td>\n",
       "    </tr>\n",
       "  </tbody>\n",
       "</table>\n",
       "</div>"
      ],
      "text/plain": [
       "              user  rating                                            comment  \\\n",
       "0       Dino Bravo       5  Still remember the taste of it to this day. On...   \n",
       "1      P. Crackers       5  Pretty much what everyone else is saying... th...   \n",
       "2          Jeff H.       5                                       This was the   \n",
       "3  Kaboodle Doodle       5  This was one of my favorites from the early 90's.   \n",
       "4             K.Y.       5  I remember this cereal for some reason. I was ...   \n",
       "\n",
       "   product_id  rank                  name  \n",
       "0           4  1034  Addams Family Cereal  \n",
       "1           4  1034  Addams Family Cereal  \n",
       "2           4  1034  Addams Family Cereal  \n",
       "3           4  1034  Addams Family Cereal  \n",
       "4           4  1034  Addams Family Cereal  "
      ]
     },
     "execution_count": 8,
     "metadata": {},
     "output_type": "execute_result"
    }
   ],
   "source": [
    "comments_df = read_csv(\"../data/comments.csv\")\n",
    "product_df = read_csv(\"../data/product_rating.csv\").rename(columns={\"rating\":\"rank\"})\n",
    "reviews_df = comments_df.merge(product_df, on=\"product_id\")\n",
    "reviews_df[\"comment\"] = reviews_df[\"comment\"].map(str)\n",
    "reviews_df.head()"
   ]
  },
  {
   "cell_type": "code",
   "execution_count": 108,
   "metadata": {},
   "outputs": [
    {
     "data": {
      "text/html": [
       "<div>\n",
       "<style scoped>\n",
       "    .dataframe tbody tr th:only-of-type {\n",
       "        vertical-align: middle;\n",
       "    }\n",
       "\n",
       "    .dataframe tbody tr th {\n",
       "        vertical-align: top;\n",
       "    }\n",
       "\n",
       "    .dataframe thead th {\n",
       "        text-align: right;\n",
       "    }\n",
       "</style>\n",
       "<table border=\"1\" class=\"dataframe\">\n",
       "  <thead>\n",
       "    <tr style=\"text-align: right;\">\n",
       "      <th></th>\n",
       "      <th>user</th>\n",
       "      <th>rating</th>\n",
       "      <th>comment</th>\n",
       "      <th>product_id</th>\n",
       "      <th>rank</th>\n",
       "      <th>name</th>\n",
       "      <th>sentiment_score</th>\n",
       "    </tr>\n",
       "  </thead>\n",
       "  <tbody>\n",
       "    <tr>\n",
       "      <th>0</th>\n",
       "      <td>Dino Bravo</td>\n",
       "      <td>5</td>\n",
       "      <td>Still remember the taste of it to this day. On...</td>\n",
       "      <td>4</td>\n",
       "      <td>1034</td>\n",
       "      <td>Addams Family Cereal</td>\n",
       "      <td>0.6369</td>\n",
       "    </tr>\n",
       "    <tr>\n",
       "      <th>1</th>\n",
       "      <td>P. Crackers</td>\n",
       "      <td>5</td>\n",
       "      <td>Pretty much what everyone else is saying... th...</td>\n",
       "      <td>4</td>\n",
       "      <td>1034</td>\n",
       "      <td>Addams Family Cereal</td>\n",
       "      <td>0.9370</td>\n",
       "    </tr>\n",
       "    <tr>\n",
       "      <th>2</th>\n",
       "      <td>Jeff H.</td>\n",
       "      <td>5</td>\n",
       "      <td>This was the</td>\n",
       "      <td>4</td>\n",
       "      <td>1034</td>\n",
       "      <td>Addams Family Cereal</td>\n",
       "      <td>0.0000</td>\n",
       "    </tr>\n",
       "    <tr>\n",
       "      <th>3</th>\n",
       "      <td>Kaboodle Doodle</td>\n",
       "      <td>5</td>\n",
       "      <td>This was one of my favorites from the early 90's.</td>\n",
       "      <td>4</td>\n",
       "      <td>1034</td>\n",
       "      <td>Addams Family Cereal</td>\n",
       "      <td>0.4215</td>\n",
       "    </tr>\n",
       "    <tr>\n",
       "      <th>4</th>\n",
       "      <td>K.Y.</td>\n",
       "      <td>5</td>\n",
       "      <td>I remember this cereal for some reason. I was ...</td>\n",
       "      <td>4</td>\n",
       "      <td>1034</td>\n",
       "      <td>Addams Family Cereal</td>\n",
       "      <td>0.0000</td>\n",
       "    </tr>\n",
       "  </tbody>\n",
       "</table>\n",
       "</div>"
      ],
      "text/plain": [
       "              user  rating                                            comment  \\\n",
       "0       Dino Bravo       5  Still remember the taste of it to this day. On...   \n",
       "1      P. Crackers       5  Pretty much what everyone else is saying... th...   \n",
       "2          Jeff H.       5                                       This was the   \n",
       "3  Kaboodle Doodle       5  This was one of my favorites from the early 90's.   \n",
       "4             K.Y.       5  I remember this cereal for some reason. I was ...   \n",
       "\n",
       "   product_id  rank                  name  sentiment_score  \n",
       "0           4  1034  Addams Family Cereal           0.6369  \n",
       "1           4  1034  Addams Family Cereal           0.9370  \n",
       "2           4  1034  Addams Family Cereal           0.0000  \n",
       "3           4  1034  Addams Family Cereal           0.4215  \n",
       "4           4  1034  Addams Family Cereal           0.0000  "
      ]
     },
     "execution_count": 108,
     "metadata": {},
     "output_type": "execute_result"
    }
   ],
   "source": [
    "reviews_df[\"sentiment_score\"] = reviews_df[\"comment\"].map(review_sentiment)\n",
    "reviews_df.head()"
   ]
  },
  {
   "cell_type": "code",
   "execution_count": 109,
   "metadata": {},
   "outputs": [],
   "source": [
    "# reviews_df.to_csv(\"../data/reviews.csv\", index=False)"
   ]
  },
  {
   "cell_type": "code",
   "execution_count": 11,
   "metadata": {},
   "outputs": [],
   "source": [
    "reviews_df = read_csv(\"../data/reviews.csv\")\n",
    "reviews_df[\"comment\"] = reviews_df[\"comment\"].map(str)\n",
    "\n",
    "count = 0\n",
    "for comb in final_combinations:\n",
    "    col_name = \"\".join(map(str, sorted(list(comb))))\n",
    "    if col_name+\"_sim\" in reviews_df.columns:\n",
    "        continue\n",
    "    attributes = list()\n",
    "    for key in comb:\n",
    "        if key in single_select_1:\n",
    "            attributes.append(single_select_1[key])\n",
    "        elif key in single_select_2:\n",
    "            attributes.append(single_select_2[key])\n",
    "        else:\n",
    "            attributes.append(multi_select[key])\n",
    "    attributes = \" \".join(attributes)\n",
    "    reviews_df[col_name+\"_sim\"] = reviews_df[\"comment\"].map(lambda x: get_spacy_word_vector_similarity(x, attributes))\n",
    "    reviews_df.to_csv(\"../data/reviews.csv\", index=False)\n",
    "    count+=1\n",
    "    if count > 30:\n",
    "        break"
   ]
  },
  {
   "cell_type": "code",
   "execution_count": null,
   "metadata": {},
   "outputs": [],
   "source": [
    "reviews_df = read_csv(\"../data/reviews.csv\")\n",
    "reviews_df[\"comment\"] = reviews_df[\"comment\"].map(str)\n",
    "len(reviews_df.columns)"
   ]
  },
  {
   "cell_type": "markdown",
   "metadata": {},
   "source": [
    "### Cereal to Cereal association"
   ]
  },
  {
   "cell_type": "code",
   "execution_count": null,
   "metadata": {},
   "outputs": [],
   "source": []
  }
 ],
 "metadata": {
  "kernelspec": {
   "display_name": "Python 3.10.5 64-bit",
   "language": "python",
   "name": "python3"
  },
  "language_info": {
   "codemirror_mode": {
    "name": "ipython",
    "version": 3
   },
   "file_extension": ".py",
   "mimetype": "text/x-python",
   "name": "python",
   "nbconvert_exporter": "python",
   "pygments_lexer": "ipython3",
   "version": "3.10.5"
  },
  "orig_nbformat": 4,
  "vscode": {
   "interpreter": {
    "hash": "26de051ba29f2982a8de78e945f0abaf191376122a1563185a90213a26c5da77"
   }
  }
 },
 "nbformat": 4,
 "nbformat_minor": 2
}
