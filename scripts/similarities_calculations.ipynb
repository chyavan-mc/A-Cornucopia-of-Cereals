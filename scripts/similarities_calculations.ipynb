{
 "cells": [
  {
   "cell_type": "code",
   "execution_count": 1,
   "metadata": {},
   "outputs": [],
   "source": [
    "from pandas import DataFrame, concat, read_csv, Series\n",
    "from time import sleep\n",
    "import re\n",
    "from nltk.tokenize import word_tokenize\n",
    "import spacy\n",
    "import numpy as np\n",
    "from vaderSentiment.vaderSentiment import SentimentIntensityAnalyzer\n",
    "from nltk.corpus import stopwords\n",
    "from nltk import pos_tag\n",
    "from itertools import combinations\n",
    "import warnings\n",
    "warnings.filterwarnings('ignore')\n",
    "stop_words = set(stopwords.words('english'))\n",
    "nlp = spacy.load('en_core_web_md')"
   ]
  },
  {
   "cell_type": "code",
   "execution_count": 30,
   "metadata": {},
   "outputs": [],
   "source": [
    "comments_df = read_csv(\"../data/comments.csv\")\n",
    "tokens = comments_df[\"comment\"].map(lambda s: word_tokenize(str(s).lower()))\n",
    "tokens = tokens.map(lambda list_words: [i for i in list_words if i.isalpha() and i not in stop_words])\n",
    "token_freq = Series(tokens.sum()).value_counts()"
   ]
  },
  {
   "cell_type": "code",
   "execution_count": 41,
   "metadata": {},
   "outputs": [],
   "source": [
    "token_df = DataFrame(token_freq, columns=[\"frequency\"]).reset_index().rename(columns={\"index\": \"token\"})\n",
    "token_df[\"pos\"] = token_df[\"token\"].map(lambda x: pos_tag([x])[0][1])"
   ]
  },
  {
   "cell_type": "code",
   "execution_count": 43,
   "metadata": {},
   "outputs": [],
   "source": [
    "token_df.to_csv(\"../data/word_frequencies.csv\", index=False)"
   ]
  },
  {
   "cell_type": "markdown",
   "metadata": {},
   "source": [
    "1. Multi\n",
    "    - What are you looking for in your cereal?\n",
    "        - taste\n",
    "        - flavor\n",
    "        - nutrition\n",
    "        - sweet\n",
    "        - crunch\n",
    "    - What else do you want your cereal to have?\n",
    "        - marshmallow\n",
    "        - honey\n",
    "        - fruit\n",
    "\n",
    "2. Single\n",
    "    - Do you have any preference for the Grain?\n",
    "        - oats\n",
    "        - wheat\n",
    "        - rice\n",
    "        - corn"
   ]
  },
  {
   "cell_type": "markdown",
   "metadata": {},
   "source": [
    "### Cereal to feature association"
   ]
  },
  {
   "cell_type": "markdown",
   "metadata": {},
   "source": [
    "1. Sentiment Analyzer"
   ]
  },
  {
   "cell_type": "code",
   "execution_count": 2,
   "metadata": {},
   "outputs": [],
   "source": [
    "senti_analyzer = SentimentIntensityAnalyzer()\n",
    "\n",
    "def review_sentiment(review: str):\n",
    "    score = senti_analyzer.polarity_scores(review)\n",
    "    return score[\"compound\"]"
   ]
  },
  {
   "cell_type": "markdown",
   "metadata": {},
   "source": [
    "2. Similarity between two documents"
   ]
  },
  {
   "cell_type": "code",
   "execution_count": 3,
   "metadata": {},
   "outputs": [],
   "source": [
    "def get_spacy_word_vector_similarity(text1: str, text2: str):\n",
    "    text1 = nlp(text1)\n",
    "    text2 = nlp(text2)\n",
    "    return text1.similarity(text2)"
   ]
  },
  {
   "cell_type": "markdown",
   "metadata": {},
   "source": [
    "3. Create all possible combinations of the features that may be selected by the user"
   ]
  },
  {
   "cell_type": "code",
   "execution_count": 4,
   "metadata": {},
   "outputs": [],
   "source": [
    "multi_select = dict([(chr(x[0]), x[1]) for x in enumerate([\"taste\", \"flavor\", \"nutrition\", \"sweet\", \"crunch\"],start=65)])\n",
    "single_select_1 = dict([(chr(x[0]), x[1]) for x in enumerate([\"oats\", \"wheat\", \"rice\", \"corn\"], start=70)])\n",
    "single_select_2 =  dict([(chr(x[0]), x[1]) for x in enumerate([\"marshmallow\", \"honey\", \"fruit\"],start=74)])"
   ]
  },
  {
   "cell_type": "code",
   "execution_count": 5,
   "metadata": {},
   "outputs": [
    {
     "data": {
      "text/plain": [
       "[(),\n",
       " ('A',),\n",
       " ('B',),\n",
       " ('C',),\n",
       " ('D',),\n",
       " ('E',),\n",
       " ('A', 'B'),\n",
       " ('A', 'C'),\n",
       " ('A', 'D'),\n",
       " ('A', 'E')]"
      ]
     },
     "execution_count": 5,
     "metadata": {},
     "output_type": "execute_result"
    }
   ],
   "source": [
    "multi_combinations = list()\n",
    "for i in range(len(multi_select.keys())+1):\n",
    "    multi_combinations += list(combinations(multi_select.keys(), i))\n",
    "\n",
    "multi_combinations[:10]"
   ]
  },
  {
   "cell_type": "markdown",
   "metadata": {},
   "source": [
    "4. Calculate similarity for all combinations"
   ]
  },
  {
   "cell_type": "code",
   "execution_count": 6,
   "metadata": {},
   "outputs": [
    {
     "data": {
      "text/plain": [
       "639"
      ]
     },
     "execution_count": 6,
     "metadata": {},
     "output_type": "execute_result"
    }
   ],
   "source": [
    "final_combinations = list()\n",
    "\n",
    "for i in single_select_1.keys():\n",
    "    final_combinations += [tuple(list(tup) + [i]) for tup in multi_combinations]\n",
    "for i in single_select_2.keys():\n",
    "    final_combinations += [tuple(list(tup) + [i]) for tup in multi_combinations]\n",
    "for i in single_select_1.keys():\n",
    "    for j in single_select_2.keys():\n",
    "        final_combinations += [tuple(list(tup) + [i, j]) for tup in multi_combinations]\n",
    "final_combinations += multi_combinations\n",
    "\n",
    "final_combinations = [tuple(sorted(list(tup))) for tup in final_combinations if len(tup) > 0]\n",
    "len(final_combinations)"
   ]
  },
  {
   "cell_type": "code",
   "execution_count": 8,
   "metadata": {},
   "outputs": [
    {
     "data": {
      "text/html": [
       "<div>\n",
       "<style scoped>\n",
       "    .dataframe tbody tr th:only-of-type {\n",
       "        vertical-align: middle;\n",
       "    }\n",
       "\n",
       "    .dataframe tbody tr th {\n",
       "        vertical-align: top;\n",
       "    }\n",
       "\n",
       "    .dataframe thead th {\n",
       "        text-align: right;\n",
       "    }\n",
       "</style>\n",
       "<table border=\"1\" class=\"dataframe\">\n",
       "  <thead>\n",
       "    <tr style=\"text-align: right;\">\n",
       "      <th></th>\n",
       "      <th>user</th>\n",
       "      <th>rating</th>\n",
       "      <th>comment</th>\n",
       "      <th>product_id</th>\n",
       "      <th>rank</th>\n",
       "      <th>name</th>\n",
       "    </tr>\n",
       "  </thead>\n",
       "  <tbody>\n",
       "    <tr>\n",
       "      <th>0</th>\n",
       "      <td>Dino Bravo</td>\n",
       "      <td>5</td>\n",
       "      <td>Still remember the taste of it to this day. On...</td>\n",
       "      <td>4</td>\n",
       "      <td>1034</td>\n",
       "      <td>Addams Family Cereal</td>\n",
       "    </tr>\n",
       "    <tr>\n",
       "      <th>1</th>\n",
       "      <td>P. Crackers</td>\n",
       "      <td>5</td>\n",
       "      <td>Pretty much what everyone else is saying... th...</td>\n",
       "      <td>4</td>\n",
       "      <td>1034</td>\n",
       "      <td>Addams Family Cereal</td>\n",
       "    </tr>\n",
       "    <tr>\n",
       "      <th>2</th>\n",
       "      <td>Jeff H.</td>\n",
       "      <td>5</td>\n",
       "      <td>This was the</td>\n",
       "      <td>4</td>\n",
       "      <td>1034</td>\n",
       "      <td>Addams Family Cereal</td>\n",
       "    </tr>\n",
       "    <tr>\n",
       "      <th>3</th>\n",
       "      <td>Kaboodle Doodle</td>\n",
       "      <td>5</td>\n",
       "      <td>This was one of my favorites from the early 90's.</td>\n",
       "      <td>4</td>\n",
       "      <td>1034</td>\n",
       "      <td>Addams Family Cereal</td>\n",
       "    </tr>\n",
       "    <tr>\n",
       "      <th>4</th>\n",
       "      <td>K.Y.</td>\n",
       "      <td>5</td>\n",
       "      <td>I remember this cereal for some reason. I was ...</td>\n",
       "      <td>4</td>\n",
       "      <td>1034</td>\n",
       "      <td>Addams Family Cereal</td>\n",
       "    </tr>\n",
       "  </tbody>\n",
       "</table>\n",
       "</div>"
      ],
      "text/plain": [
       "              user  rating                                            comment  \\\n",
       "0       Dino Bravo       5  Still remember the taste of it to this day. On...   \n",
       "1      P. Crackers       5  Pretty much what everyone else is saying... th...   \n",
       "2          Jeff H.       5                                       This was the   \n",
       "3  Kaboodle Doodle       5  This was one of my favorites from the early 90's.   \n",
       "4             K.Y.       5  I remember this cereal for some reason. I was ...   \n",
       "\n",
       "   product_id  rank                  name  \n",
       "0           4  1034  Addams Family Cereal  \n",
       "1           4  1034  Addams Family Cereal  \n",
       "2           4  1034  Addams Family Cereal  \n",
       "3           4  1034  Addams Family Cereal  \n",
       "4           4  1034  Addams Family Cereal  "
      ]
     },
     "execution_count": 8,
     "metadata": {},
     "output_type": "execute_result"
    }
   ],
   "source": [
    "comments_df = read_csv(\"../data/comments.csv\")\n",
    "product_df = read_csv(\"../data/product_rating.csv\").rename(columns={\"rating\":\"rank\"})\n",
    "reviews_df = comments_df.merge(product_df, on=\"product_id\")\n",
    "reviews_df[\"comment\"] = reviews_df[\"comment\"].map(str)\n",
    "reviews_df.head()"
   ]
  },
  {
   "cell_type": "code",
   "execution_count": 108,
   "metadata": {},
   "outputs": [
    {
     "data": {
      "text/html": [
       "<div>\n",
       "<style scoped>\n",
       "    .dataframe tbody tr th:only-of-type {\n",
       "        vertical-align: middle;\n",
       "    }\n",
       "\n",
       "    .dataframe tbody tr th {\n",
       "        vertical-align: top;\n",
       "    }\n",
       "\n",
       "    .dataframe thead th {\n",
       "        text-align: right;\n",
       "    }\n",
       "</style>\n",
       "<table border=\"1\" class=\"dataframe\">\n",
       "  <thead>\n",
       "    <tr style=\"text-align: right;\">\n",
       "      <th></th>\n",
       "      <th>user</th>\n",
       "      <th>rating</th>\n",
       "      <th>comment</th>\n",
       "      <th>product_id</th>\n",
       "      <th>rank</th>\n",
       "      <th>name</th>\n",
       "      <th>sentiment_score</th>\n",
       "    </tr>\n",
       "  </thead>\n",
       "  <tbody>\n",
       "    <tr>\n",
       "      <th>0</th>\n",
       "      <td>Dino Bravo</td>\n",
       "      <td>5</td>\n",
       "      <td>Still remember the taste of it to this day. On...</td>\n",
       "      <td>4</td>\n",
       "      <td>1034</td>\n",
       "      <td>Addams Family Cereal</td>\n",
       "      <td>0.6369</td>\n",
       "    </tr>\n",
       "    <tr>\n",
       "      <th>1</th>\n",
       "      <td>P. Crackers</td>\n",
       "      <td>5</td>\n",
       "      <td>Pretty much what everyone else is saying... th...</td>\n",
       "      <td>4</td>\n",
       "      <td>1034</td>\n",
       "      <td>Addams Family Cereal</td>\n",
       "      <td>0.9370</td>\n",
       "    </tr>\n",
       "    <tr>\n",
       "      <th>2</th>\n",
       "      <td>Jeff H.</td>\n",
       "      <td>5</td>\n",
       "      <td>This was the</td>\n",
       "      <td>4</td>\n",
       "      <td>1034</td>\n",
       "      <td>Addams Family Cereal</td>\n",
       "      <td>0.0000</td>\n",
       "    </tr>\n",
       "    <tr>\n",
       "      <th>3</th>\n",
       "      <td>Kaboodle Doodle</td>\n",
       "      <td>5</td>\n",
       "      <td>This was one of my favorites from the early 90's.</td>\n",
       "      <td>4</td>\n",
       "      <td>1034</td>\n",
       "      <td>Addams Family Cereal</td>\n",
       "      <td>0.4215</td>\n",
       "    </tr>\n",
       "    <tr>\n",
       "      <th>4</th>\n",
       "      <td>K.Y.</td>\n",
       "      <td>5</td>\n",
       "      <td>I remember this cereal for some reason. I was ...</td>\n",
       "      <td>4</td>\n",
       "      <td>1034</td>\n",
       "      <td>Addams Family Cereal</td>\n",
       "      <td>0.0000</td>\n",
       "    </tr>\n",
       "  </tbody>\n",
       "</table>\n",
       "</div>"
      ],
      "text/plain": [
       "              user  rating                                            comment  \\\n",
       "0       Dino Bravo       5  Still remember the taste of it to this day. On...   \n",
       "1      P. Crackers       5  Pretty much what everyone else is saying... th...   \n",
       "2          Jeff H.       5                                       This was the   \n",
       "3  Kaboodle Doodle       5  This was one of my favorites from the early 90's.   \n",
       "4             K.Y.       5  I remember this cereal for some reason. I was ...   \n",
       "\n",
       "   product_id  rank                  name  sentiment_score  \n",
       "0           4  1034  Addams Family Cereal           0.6369  \n",
       "1           4  1034  Addams Family Cereal           0.9370  \n",
       "2           4  1034  Addams Family Cereal           0.0000  \n",
       "3           4  1034  Addams Family Cereal           0.4215  \n",
       "4           4  1034  Addams Family Cereal           0.0000  "
      ]
     },
     "execution_count": 108,
     "metadata": {},
     "output_type": "execute_result"
    }
   ],
   "source": [
    "reviews_df[\"sentiment_score\"] = reviews_df[\"comment\"].map(review_sentiment)\n",
    "reviews_df.head()"
   ]
  },
  {
   "cell_type": "code",
   "execution_count": 109,
   "metadata": {},
   "outputs": [],
   "source": [
    "# reviews_df.to_csv(\"../data/reviews.csv\", index=False)"
   ]
  },
  {
   "cell_type": "code",
   "execution_count": 11,
   "metadata": {},
   "outputs": [],
   "source": [
    "reviews_df = read_csv(\"../data/reviews.csv\")\n",
    "reviews_df[\"comment\"] = reviews_df[\"comment\"].map(str)\n",
    "\n",
    "count = 0\n",
    "for comb in final_combinations:\n",
    "    col_name = \"\".join(map(str, sorted(list(comb))))\n",
    "    if col_name+\"_sim\" in reviews_df.columns:\n",
    "        continue\n",
    "    attributes = list()\n",
    "    for key in comb:\n",
    "        if key in single_select_1:\n",
    "            attributes.append(single_select_1[key])\n",
    "        elif key in single_select_2:\n",
    "            attributes.append(single_select_2[key])\n",
    "        else:\n",
    "            attributes.append(multi_select[key])\n",
    "    attributes = \" \".join(attributes)\n",
    "    reviews_df[col_name+\"_sim\"] = reviews_df[\"comment\"].map(lambda x: get_spacy_word_vector_similarity(x, attributes))\n",
    "    reviews_df.to_csv(\"../data/reviews.csv\", index=False)\n",
    "    count+=1\n",
    "    if count > 30:\n",
    "        break"
   ]
  },
  {
   "cell_type": "code",
   "execution_count": 12,
   "metadata": {},
   "outputs": [
    {
     "data": {
      "text/plain": [
       "646"
      ]
     },
     "execution_count": 12,
     "metadata": {},
     "output_type": "execute_result"
    }
   ],
   "source": [
    "reviews_df = read_csv(\"../data/reviews.csv\")\n",
    "reviews_df[\"comment\"] = reviews_df[\"comment\"].map(str)\n",
    "len(reviews_df.columns)"
   ]
  },
  {
   "cell_type": "code",
   "execution_count": 25,
   "metadata": {},
   "outputs": [],
   "source": [
    "for comb in final_combinations:\n",
    "    col_name = \"\".join(map(str, sorted(list(comb))))\n",
    "    reviews_df[col_name] = reviews_df[col_name+\"_sim\"]*reviews_df[\"sentiment_score\"]"
   ]
  },
  {
   "cell_type": "code",
   "execution_count": 27,
   "metadata": {},
   "outputs": [],
   "source": [
    "final_scores = reviews_df.groupby([\"product_id\", \"name\"])[[\"rating\"]+[\"\".join(map(str, sorted(list(comb)))) for comb in final_combinations]].mean()\n",
    "product_df = read_csv(\"../data/product_rating.csv\").rename(columns={\"rating\":\"rank\"})\n",
    "final_scores = final_scores.merge(product_df, on=\"product_id\").set_index(\"product_id\")\n",
    "final_scores.to_json(\"../data/final_scores.json\")"
   ]
  },
  {
   "cell_type": "markdown",
   "metadata": {},
   "source": [
    "### Cereal to Cereal association"
   ]
  },
  {
   "cell_type": "code",
   "execution_count": 61,
   "metadata": {},
   "outputs": [],
   "source": [
    "single_attribute_vector = final_scores[[\"\".join(map(str, sorted(list(comb)))) for comb in final_combinations]]"
   ]
  },
  {
   "cell_type": "code",
   "execution_count": 64,
   "metadata": {},
   "outputs": [
    {
     "data": {
      "text/html": [
       "<div>\n",
       "<style scoped>\n",
       "    .dataframe tbody tr th:only-of-type {\n",
       "        vertical-align: middle;\n",
       "    }\n",
       "\n",
       "    .dataframe tbody tr th {\n",
       "        vertical-align: top;\n",
       "    }\n",
       "\n",
       "    .dataframe thead th {\n",
       "        text-align: right;\n",
       "    }\n",
       "</style>\n",
       "<table border=\"1\" class=\"dataframe\">\n",
       "  <thead>\n",
       "    <tr style=\"text-align: right;\">\n",
       "      <th></th>\n",
       "      <th>300</th>\n",
       "      <th>144</th>\n",
       "      <th>1143</th>\n",
       "      <th>216</th>\n",
       "      <th>53</th>\n",
       "      <th>175</th>\n",
       "      <th>286</th>\n",
       "      <th>197</th>\n",
       "      <th>72</th>\n",
       "      <th>222</th>\n",
       "      <th>...</th>\n",
       "      <th>1344</th>\n",
       "      <th>542</th>\n",
       "      <th>1462</th>\n",
       "      <th>100</th>\n",
       "      <th>159</th>\n",
       "      <th>202</th>\n",
       "      <th>200</th>\n",
       "      <th>1173</th>\n",
       "      <th>450</th>\n",
       "      <th>709</th>\n",
       "    </tr>\n",
       "  </thead>\n",
       "  <tbody>\n",
       "    <tr>\n",
       "      <th>300</th>\n",
       "      <td>0</td>\n",
       "      <td>0.999897</td>\n",
       "      <td>0.999819</td>\n",
       "      <td>0.999909</td>\n",
       "      <td>0.999707</td>\n",
       "      <td>0.999676</td>\n",
       "      <td>0.999776</td>\n",
       "      <td>0.999888</td>\n",
       "      <td>0.999694</td>\n",
       "      <td>0.99982</td>\n",
       "      <td>...</td>\n",
       "      <td>0.999526</td>\n",
       "      <td>0.999842</td>\n",
       "      <td>0.999105</td>\n",
       "      <td>0.999517</td>\n",
       "      <td>0.999944</td>\n",
       "      <td>0.999701</td>\n",
       "      <td>0.999235</td>\n",
       "      <td>0.99983</td>\n",
       "      <td>0.999869</td>\n",
       "      <td>0.999707</td>\n",
       "    </tr>\n",
       "    <tr>\n",
       "      <th>144</th>\n",
       "      <td>0.999897</td>\n",
       "      <td>0</td>\n",
       "      <td>0.999727</td>\n",
       "      <td>0.999801</td>\n",
       "      <td>0.99984</td>\n",
       "      <td>0.999854</td>\n",
       "      <td>0.999731</td>\n",
       "      <td>0.99983</td>\n",
       "      <td>0.999788</td>\n",
       "      <td>0.999862</td>\n",
       "      <td>...</td>\n",
       "      <td>0.9996</td>\n",
       "      <td>0.999836</td>\n",
       "      <td>0.999037</td>\n",
       "      <td>0.99958</td>\n",
       "      <td>0.999859</td>\n",
       "      <td>0.999727</td>\n",
       "      <td>0.999171</td>\n",
       "      <td>0.999679</td>\n",
       "      <td>0.999796</td>\n",
       "      <td>0.999709</td>\n",
       "    </tr>\n",
       "    <tr>\n",
       "      <th>1143</th>\n",
       "      <td>0.999819</td>\n",
       "      <td>0.999727</td>\n",
       "      <td>0</td>\n",
       "      <td>0.999964</td>\n",
       "      <td>0.999851</td>\n",
       "      <td>0.999675</td>\n",
       "      <td>0.999981</td>\n",
       "      <td>0.999615</td>\n",
       "      <td>0.999893</td>\n",
       "      <td>0.99989</td>\n",
       "      <td>...</td>\n",
       "      <td>0.999837</td>\n",
       "      <td>0.999775</td>\n",
       "      <td>0.999716</td>\n",
       "      <td>0.999868</td>\n",
       "      <td>0.999843</td>\n",
       "      <td>0.999901</td>\n",
       "      <td>0.999777</td>\n",
       "      <td>0.999378</td>\n",
       "      <td>0.999924</td>\n",
       "      <td>0.999904</td>\n",
       "    </tr>\n",
       "    <tr>\n",
       "      <th>216</th>\n",
       "      <td>0.999909</td>\n",
       "      <td>0.999801</td>\n",
       "      <td>0.999964</td>\n",
       "      <td>0</td>\n",
       "      <td>0.999805</td>\n",
       "      <td>0.999627</td>\n",
       "      <td>0.999937</td>\n",
       "      <td>0.999693</td>\n",
       "      <td>0.999818</td>\n",
       "      <td>0.9999</td>\n",
       "      <td>...</td>\n",
       "      <td>0.999686</td>\n",
       "      <td>0.99975</td>\n",
       "      <td>0.999518</td>\n",
       "      <td>0.999755</td>\n",
       "      <td>0.999886</td>\n",
       "      <td>0.999874</td>\n",
       "      <td>0.999615</td>\n",
       "      <td>0.999602</td>\n",
       "      <td>0.999917</td>\n",
       "      <td>0.999826</td>\n",
       "    </tr>\n",
       "    <tr>\n",
       "      <th>53</th>\n",
       "      <td>0.999707</td>\n",
       "      <td>0.99984</td>\n",
       "      <td>0.999851</td>\n",
       "      <td>0.999805</td>\n",
       "      <td>0</td>\n",
       "      <td>0.999845</td>\n",
       "      <td>0.999888</td>\n",
       "      <td>0.999561</td>\n",
       "      <td>0.999976</td>\n",
       "      <td>0.999945</td>\n",
       "      <td>...</td>\n",
       "      <td>0.999884</td>\n",
       "      <td>0.999786</td>\n",
       "      <td>0.999539</td>\n",
       "      <td>0.999892</td>\n",
       "      <td>0.999727</td>\n",
       "      <td>0.999895</td>\n",
       "      <td>0.999645</td>\n",
       "      <td>0.999206</td>\n",
       "      <td>0.999806</td>\n",
       "      <td>0.99988</td>\n",
       "    </tr>\n",
       "  </tbody>\n",
       "</table>\n",
       "<p>5 rows × 195 columns</p>\n",
       "</div>"
      ],
      "text/plain": [
       "          300       144       1143      216       53        175       286   \\\n",
       "300          0  0.999897  0.999819  0.999909  0.999707  0.999676  0.999776   \n",
       "144   0.999897         0  0.999727  0.999801   0.99984  0.999854  0.999731   \n",
       "1143  0.999819  0.999727         0  0.999964  0.999851  0.999675  0.999981   \n",
       "216   0.999909  0.999801  0.999964         0  0.999805  0.999627  0.999937   \n",
       "53    0.999707   0.99984  0.999851  0.999805         0  0.999845  0.999888   \n",
       "\n",
       "          197       72        222   ...      1344      542       1462  \\\n",
       "300   0.999888  0.999694   0.99982  ...  0.999526  0.999842  0.999105   \n",
       "144    0.99983  0.999788  0.999862  ...    0.9996  0.999836  0.999037   \n",
       "1143  0.999615  0.999893   0.99989  ...  0.999837  0.999775  0.999716   \n",
       "216   0.999693  0.999818    0.9999  ...  0.999686   0.99975  0.999518   \n",
       "53    0.999561  0.999976  0.999945  ...  0.999884  0.999786  0.999539   \n",
       "\n",
       "          100       159       202       200       1173      450       709   \n",
       "300   0.999517  0.999944  0.999701  0.999235   0.99983  0.999869  0.999707  \n",
       "144    0.99958  0.999859  0.999727  0.999171  0.999679  0.999796  0.999709  \n",
       "1143  0.999868  0.999843  0.999901  0.999777  0.999378  0.999924  0.999904  \n",
       "216   0.999755  0.999886  0.999874  0.999615  0.999602  0.999917  0.999826  \n",
       "53    0.999892  0.999727  0.999895  0.999645  0.999206  0.999806   0.99988  \n",
       "\n",
       "[5 rows x 195 columns]"
      ]
     },
     "execution_count": 64,
     "metadata": {},
     "output_type": "execute_result"
    }
   ],
   "source": [
    "def cosine_similarity(vec_a: Series, vec_b: Series):\n",
    "    return np.dot(vec_a.sort_index(), vec_b.sort_index()) / (np.linalg.norm(vec_a) * np.linalg.norm(vec_b))\n",
    "\n",
    "cereal_similarity_df = DataFrame([], columns=product_df[\"product_id\"].values, index=product_df[\"product_id\"].values)\n",
    "\n",
    "for idx in cereal_similarity_df.index.values:\n",
    "    for col in cereal_similarity_df.columns.values:\n",
    "        if idx == col:\n",
    "            cereal_similarity_df.loc[idx, col] = 0\n",
    "        else:\n",
    "            cereal_similarity_df.loc[idx, col] = cosine_similarity(single_attribute_vector.loc[idx], single_attribute_vector.loc[col])\n",
    "\n",
    "cereal_similarity_df.head()"
   ]
  },
  {
   "cell_type": "code",
   "execution_count": 82,
   "metadata": {},
   "outputs": [],
   "source": [
    "def maxNIndex(elements: Series, n: int):\n",
    "    return elements.sort_values(ascending=False).index.values[:n]"
   ]
  },
  {
   "cell_type": "code",
   "execution_count": 117,
   "metadata": {},
   "outputs": [],
   "source": [
    "top_n = 5\n",
    "cereals_df = DataFrame(cereal_similarity_df.apply(lambda x: maxNIndex(x, top_n), axis=1), columns=[\"array\"])\n",
    "for i in range(top_n):\n",
    "    cereals_df[\"top_\" + str(i+1)] = cereals_df[\"array\"].map(lambda x: x[i]) #[i]\n",
    "cereals_df = cereals_df.reset_index().rename(columns={\"index\":\"product_id\"})[[\"product_id\"] + [\"top_\"+str(i+1) for i in range(top_n)]]\n",
    "cereals_df = cereals_df.merge(product_df, on=\"product_id\").set_index(\"name\")[[\"top_\"+str(i+1) for i in range(top_n)]]\n",
    "\n",
    "product_df.set_index(\"product_id\", inplace=True)\n",
    "for i in range(top_n):\n",
    "    cereals_df[\"top_\"+str(i+1)] = cereals_df[\"top_\"+str(i+1)].map(lambda x: product_df.loc[x, \"name\"])"
   ]
  },
  {
   "cell_type": "code",
   "execution_count": 127,
   "metadata": {},
   "outputs": [],
   "source": [
    "cereals_df.T.to_json(\"../data/nearest_cereals.json\")"
   ]
  }
 ],
 "metadata": {
  "kernelspec": {
   "display_name": "Python 3.10.5 64-bit",
   "language": "python",
   "name": "python3"
  },
  "language_info": {
   "codemirror_mode": {
    "name": "ipython",
    "version": 3
   },
   "file_extension": ".py",
   "mimetype": "text/x-python",
   "name": "python",
   "nbconvert_exporter": "python",
   "pygments_lexer": "ipython3",
   "version": "3.10.5"
  },
  "orig_nbformat": 4,
  "vscode": {
   "interpreter": {
    "hash": "26de051ba29f2982a8de78e945f0abaf191376122a1563185a90213a26c5da77"
   }
  }
 },
 "nbformat": 4,
 "nbformat_minor": 2
}
